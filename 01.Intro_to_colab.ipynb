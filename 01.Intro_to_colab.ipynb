{
  "cells": [
    {
      "cell_type": "markdown",
      "metadata": {
        "id": "VZpWDT_qK5mE"
      },
      "source": [
        "# Module 1: Introduction to Google Colaboratory\n",
        "\n",
        "Welcome to the course! There are some very important instructions you must follow if you want to save a copy of this module to your Google Drive:\n",
        "\n",
        "1.) Click on \"File\" in the top left corner and select \"Save a copy in Drive.\"\n",
        "\n",
        "2.) Click on the notebook name in the top left corner and replace it with the name you desire.\n",
        "\n",
        "**Your changes will not be saved if you do not complete this step.**\n",
        "\n",
        "Please note that the total size of ALL completed modules is:"
      ]
    },
    {
      "cell_type": "markdown",
      "metadata": {},
      "source": [
        "___"
      ]
    },
    {
      "cell_type": "markdown",
      "metadata": {
        "id": "HkAHdwWUJKoZ"
      },
      "source": [
        "## Lets begin\n",
        "\n",
        "Please type: `print(\"Yes, I have done step 1\")` into the code block below, then run by clicking the \"triangle\"/\"Play\" icon on that block "
      ]
    },
    {
      "cell_type": "code",
      "execution_count": null,
      "metadata": {
        "id": "lza1ngCWKHbX"
      },
      "outputs": [],
      "source": [
        "#block"
      ]
    },
    {
      "cell_type": "markdown",
      "metadata": {},
      "source": [
        "You will get the following result:\n",
        "\n",
        "![Intro](images/intro1.png)"
      ]
    },
    {
      "cell_type": "markdown",
      "metadata": {
        "id": "l166Rx0ZKLqh"
      },
      "source": [
        "Please type:`print(\"Yes, I have completed step 2\")` into the code block below, then run by clicking the \"triangle\"/\"Play\" icon on that block \n",
        "\n"
      ]
    },
    {
      "cell_type": "code",
      "execution_count": null,
      "metadata": {
        "id": "nsufot4fKS01"
      },
      "outputs": [],
      "source": [
        "#block"
      ]
    },
    {
      "cell_type": "markdown",
      "metadata": {},
      "source": [
        "You will get the following result:\n",
        "\n",
        "![Intro](images/intro2.png)"
      ]
    },
    {
      "cell_type": "markdown",
      "metadata": {
        "id": "G7mk1VecOHLQ"
      },
      "source": [
        "# Installing Conda\n",
        "\n",
        "[Conda](https://github.com/conda/conda) is a versatile software management tool. Conda is an open source system of managing tools and libraries. \n",
        "\n",
        "Conda allows you to create virtual environments with different versions of Python and packages. This is useful if you're working on projects that require specific versions of libraries or if you need to maintain separate environments for different projects. Conda simplifies the installation of Python packages and other scientific packages. Additionally, it enables easy installation of packages from the Conda repository or other channels, which can be more convenient than using tools like [pip](https://pypi.org/project/pip/) in some cases.\n",
        "\n",
        "- More information about the library used to install Conda on Google Colab can be found on this [website](https://inside-machinelearning.com/en/how-to-install-use-conda-on-google-colab/).\n",
        "\n",
        "- You can review this repository to see how this tool works: https://github.com/conda-incubator/condacolab\n",
        "\n",
        "### Important!: Remember that you will need to install Conda every time you open a new notebook, even if you have saved it to your Google Drive account. Note that Conda will be automatically deactivated upon closing a notebook.\n",
        "\n",
        "**Note: The runtime will be updated and reconnected after running this. You may see a \"runtime disconnected\" message; this is normal, wait for the session to reconnect after this.**"
      ]
    },
    {
      "cell_type": "code",
      "execution_count": null,
      "metadata": {
        "id": "jOTBUZ3gOFm3"
      },
      "outputs": [],
      "source": [
        "!pip install -q condacolab\n",
        "import condacolab\n",
        "condacolab.install()"
      ]
    },
    {
      "cell_type": "markdown",
      "metadata": {},
      "source": [
        "You will get the following result:\n",
        "\n",
        "![Intro](images/intro3.png)\n",
        "\n",
        "If you run this block again, you will get the following result:\n",
        "\n",
        "![Intro](images/intro4.png)\n"
      ]
    },
    {
      "cell_type": "markdown",
      "metadata": {
        "id": "SneaO7ArlUMU"
      },
      "source": [
        "# Practice some commands in BASH or Python\n",
        "\n",
        "Remember that this course will primarily use BASH; -check those `!` lead characters"
      ]
    },
    {
      "cell_type": "code",
      "execution_count": null,
      "metadata": {
        "id": "i6Wk6e6klSnh"
      },
      "outputs": [],
      "source": [
        "#bash is great, dont forget the !\n",
        "!echo \"hello world\""
      ]
    },
    {
      "cell_type": "code",
      "execution_count": null,
      "metadata": {
        "id": "EX47x3Iilmm2"
      },
      "outputs": [],
      "source": [
        "#python is the default \n",
        "print(\"Hello World\")"
      ]
    },
    {
      "cell_type": "markdown",
      "metadata": {
        "id": "Fry1n5nVl0XF"
      },
      "source": [
        "# Try use the file manager with the left hand side folder icon:\n",
        "Try making a folder or file by right clicking on the file space on the left\n",
        "\n",
        "![Intro](images/intro5.png)"
      ]
    },
    {
      "cell_type": "markdown",
      "metadata": {},
      "source": [
        "Then try make one with a command:"
      ]
    },
    {
      "cell_type": "code",
      "execution_count": 4,
      "metadata": {
        "id": "OJHDGLHllzk8"
      },
      "outputs": [],
      "source": [
        "#make a folder with a command\n",
        "!mkdir new_folder"
      ]
    },
    {
      "cell_type": "markdown",
      "metadata": {},
      "source": [
        "Refresh the file space on the left y you will see the new folder:\n",
        "\n",
        "![col](images/colab31.png)"
      ]
    },
    {
      "cell_type": "markdown",
      "metadata": {
        "id": "RTxjogMxmMy1"
      },
      "source": [
        "# Do I have this storage space forever? \n",
        "Run the command below:"
      ]
    },
    {
      "cell_type": "code",
      "execution_count": null,
      "metadata": {
        "id": "TBEXoPdxmLyO"
      },
      "outputs": [],
      "source": [
        "!echo \"sadly no...\"; sleep 5; echo \"you have it only for 12 hours a day\""
      ]
    },
    {
      "cell_type": "markdown",
      "metadata": {
        "id": "-qtzGaOBnKU3"
      },
      "source": [
        "# So how to save important work or outputs? \n",
        "The notebook will save automatically if you have done the first two steps! You can then repeat all work by clicking the cells or running all. \n",
        "\n",
        "The data can be downloaded to your local computer!\n",
        "\n",
        "You can also link your Google Drive to this to move files there (your storage limits apply!)"
      ]
    },
    {
      "cell_type": "markdown",
      "metadata": {
        "id": "Vyv7uvXhoRou"
      },
      "source": [
        "# Always remember to:\n",
        "(run the cell below for a reminder)"
      ]
    },
    {
      "cell_type": "code",
      "execution_count": null,
      "metadata": {
        "id": "5iQVAGcQn0dC"
      },
      "outputs": [],
      "source": [
        "# Always remember to :\n",
        "!echo \"Safe the notebook\"; sleep 2; echo \"try new things\"; sleep 2; echo \"learn as you go\"; sleep 2; echo \"and have fun!\""
      ]
    }
  ],
  "metadata": {
    "colab": {
      "collapsed_sections": [],
      "provenance": []
    },
    "kernelspec": {
      "display_name": "Python 3",
      "name": "python3"
    },
    "language_info": {
      "name": "python"
    }
  },
  "nbformat": 4,
  "nbformat_minor": 0
}
