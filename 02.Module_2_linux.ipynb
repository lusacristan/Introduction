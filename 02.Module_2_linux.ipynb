{
  "cells": [
    {
      "cell_type": "markdown",
      "metadata": {
        "id": "VZpWDT_qK5mE"
      },
      "source": [
        "# Module 2: Intro to notebooks and unix\n",
        "\n",
        "Welcome to the course! There are some very important instructions you must follow if you want to save a copy of this module to your Google Drive:\n",
        "\n",
        "1.) Click on \"File\" in the top left corner and select \"Save a copy in Drive.\"\n",
        "\n",
        "2.) Click on the notebook name in the top left corner and replace it with the name you desire.\n",
        "\n",
        "**Your changes will not be saved if you do not complete this step.**\n",
        "\n",
        "Please note that the total size of ALL completed modules is:\n"
      ]
    },
    {
      "cell_type": "markdown",
      "metadata": {},
      "source": [
        "___"
      ]
    },
    {
      "cell_type": "markdown",
      "metadata": {},
      "source": [
        "Please use this as a start base for your module: https://www.youtube.com/playlist?list=PLfovZnX0TvKtHq6Q4L5KdW332NCD4GbtU"
      ]
    },
    {
      "cell_type": "markdown",
      "metadata": {
        "id": "HkAHdwWUJKoZ"
      },
      "source": [
        "Please type: \n",
        "```\n",
        "print(\"Yes, I have done step 1\") \n",
        "```\n",
        "into the code block below, then run by clicking the \"triangle\"/\"Play\" icon on that block \n",
        "\n"
      ]
    },
    {
      "cell_type": "code",
      "execution_count": null,
      "metadata": {
        "id": "lza1ngCWKHbX"
      },
      "outputs": [],
      "source": [
        "#Block"
      ]
    },
    {
      "cell_type": "markdown",
      "metadata": {
        "id": "l166Rx0ZKLqh"
      },
      "source": [
        "Please type: \n",
        "```\n",
        "print(\"Yes, I have completed step 2\") \n",
        "```\n",
        "into the code block below, then run by clicking the \"triangle\"/\"Play\" icon on that block \n",
        "\n"
      ]
    },
    {
      "cell_type": "code",
      "execution_count": null,
      "metadata": {
        "id": "nsufot4fKS01"
      },
      "outputs": [],
      "source": [
        "#Block"
      ]
    },
    {
      "cell_type": "markdown",
      "metadata": {
        "id": "G7mk1VecOHLQ"
      },
      "source": [
        "## Installing Conda\n",
        "Conda is a versatile software management tool. Conda is an open source system of managing tools and libraries. More info on the library used to install conda on Google Colab is at this [website](https://inside-machinelearning.com/en/how-to-install-use-conda-on-google-colab/)\n",
        "\n",
        ">Note - your runtime will refresh and reconnect after running this. It will say runtime crashed, this seems normal, wait for the session to reconnect after this.\n",
        "\n",
        "\n",
        "You can check out this repo for how this tool works:\n",
        "https://github.com/conda-incubator/condacolab \n"
      ]
    },
    {
      "cell_type": "code",
      "execution_count": null,
      "metadata": {
        "id": "jOTBUZ3gOFm3"
      },
      "outputs": [],
      "source": [
        "!pip install -q condacolab\n",
        "import condacolab\n",
        "condacolab.install()"
      ]
    },
    {
      "cell_type": "markdown",
      "metadata": {
        "id": "MY1JBynBfoUT"
      },
      "source": [
        "## Introduction to Notebooks and Unix\n",
        "\n",
        "Linux is an open-source operating system (OS) developed based on the kernel created by Linus Torvalds. In the last two decades, Linux has gained so much popularity and now it is used on many platforms. Nowadays, most of the high-end services to mobile phones (Android OS or iOS) run on different variants of Linux/Unix."
      ]
    },
    {
      "cell_type": "markdown",
      "metadata": {},
      "source": [
        "\n",
        "### The terminal\n",
        "\n",
        "A computer is made up of hardware and software components. The kernel is part of the operating system that allows interaction between the hardware and the software, but it only understands machine language (binary code). Shell is a program that performs the job of converting our/user commands into binary code for the kernel. The terminal is the program that provides a graphical interface where users can enter commands that are converted into binary code by the shell to be executed by the computer via kernel. We use a terminal (AKA command line interface) to interact with the operating system. The terminal by default runs one of the “shells”. Shell is a program that sits between the user and the kernel (allows interaction between the hardware and the software in a computer), and translates user commands into machine code. The advantages of using the command line are greater control and flexibility over the system or software. Moreover, multiple commands can be saved in a file and executed as a script. \n",
        "\n",
        "The most common shells are:\n",
        "\n",
        "- Bourne Shell\n",
        "- Bourne Again Shell\n",
        "- Z Shell\n",
        "- C Shell (variant is T Shell)\n",
        "- K Shell\n",
        "\n",
        "#### Among these, Bourne Again Shell (BASH) is the most popular one. This is the default shell on most Linux systems and we will be using it throughout our course. \n",
        "\n",
        "![nanopore](images/linux.png)\n",
        "\n",
        "*Taken from: https://dwmkerr.com/effective-shell-part-5-understanding-the-shell/*"
      ]
    },
    {
      "cell_type": "markdown",
      "metadata": {
        "id": "lnarH4fDef7E"
      },
      "source": [
        "## Working in BASH\n",
        "This course will primarily make use of **BASH** to run commands and tasks. The following sections will intro the basics of working with BASH and the file structures of a unix system\n",
        "\n",
        "The following examples were made by Srikeerthana Kuchi (Univ. Of Glasgow) - https://github.com/WCSCourses/ViralBioinfAsia2022/blob/main/Modules/Intro_to_linux_text_processing.pdf \n"
      ]
    },
    {
      "cell_type": "markdown",
      "metadata": {},
      "source": [
        "### Download data"
      ]
    },
    {
      "cell_type": "code",
      "execution_count": null,
      "metadata": {
        "id": "8FsDUDXAqGXr"
      },
      "outputs": [],
      "source": [
        "%cd /content/\n",
        "!wget https://wcs_data_transfer.cog.sanger.ac.uk/Introduction_to_Linux_Unix_Text_processing.zip ; unzip Introduction_to_Linux_Unix_Text_processing.zip"
      ]
    },
    {
      "cell_type": "markdown",
      "metadata": {
        "id": "p5SImQk-LGMe"
      },
      "source": [
        "### Key differences working on Google Colab\n",
        "\n",
        "The main difference is use a `!` when wanting to execute bash commands in Google Colab. Do not put that when wanting Python to execute."
      ]
    },
    {
      "cell_type": "code",
      "execution_count": null,
      "metadata": {
        "id": "1yjkW5M7LbMz"
      },
      "outputs": [],
      "source": [
        "#example of bash\n",
        "!echo \"This is a bash command\""
      ]
    },
    {
      "cell_type": "markdown",
      "metadata": {
        "id": "3NH2ZaGwIuqP"
      },
      "source": [
        "If you forget to use the `!` symbol, it will cause an error, as python wont likely be able to interpret your bash command - try run the cell below "
      ]
    },
    {
      "cell_type": "code",
      "execution_count": null,
      "metadata": {
        "colab": {
          "base_uri": "https://localhost:8080/",
          "height": 130
        },
        "id": "HRf3XhgVF1xT",
        "outputId": "c18707cc-9965-4faf-ea01-f576787ac6d9"
      },
      "outputs": [],
      "source": [
        "#example of forgotten ! when trying to execute bash\n",
        "echo \"This is a bash command\""
      ]
    },
    {
      "cell_type": "markdown",
      "metadata": {
        "id": "O1gj_VJ8JRns"
      },
      "source": [
        "That will create an error called a `\"syntax error\"` \n",
        "\n",
        "If you encounter this, do not worry, and check that the ! is in place. This course will primarily show examples and ask for commands in bash. \n",
        "\n",
        ">Note - Python is a powerful language for data processing, and although we wont explore it in this course, you may find developing your skills in python and bash very useful for your bioinformatics projects. \n"
      ]
    },
    {
      "cell_type": "markdown",
      "metadata": {},
      "source": [
        "### Linux command structure\n",
        "\n",
        "All Linux commands are single words (can be alpha-numeric i.e. words consisting of letters and numbers). For historical reasons, some of the early commands are only two letters long and case sensitive. Most of the command options (also called flags) are single letters. They should be specified after the command before giving any input. "
      ]
    },
    {
      "cell_type": "code",
      "execution_count": null,
      "metadata": {},
      "outputs": [],
      "source": [
        "#Example: \n",
        "!ls -l"
      ]
    },
    {
      "cell_type": "markdown",
      "metadata": {},
      "source": [
        "Here `ls` is the command to list the contents of the directory, `-l` is the option for long listing xx\n",
        "\n",
        "Please remember:\n",
        "\n",
        "- Linux commands are case sensitive\n",
        "- Single words\n",
        "- Options have to follow the command\n",
        "- Options can start with a single hyphen and a character or a double hyphen and word\n",
        "- Single character options can be combined\n",
        "- Arguments can be one or multiple inputs (ls -l Document Desktop)\n",
        "- You can write more than one command separating with a semicolon;\n",
        "\n",
        "> **You can use “tab” to auto-fill the command**"
      ]
    },
    {
      "cell_type": "markdown",
      "metadata": {},
      "source": [
        "### File permissions\n",
        "\n",
        "Linux is a multi-user operating system that can be accessed by many users simultaneously. This might make you think that a user can manipulate files and directories of another user, but all Linux operating systems protect file systems under two levels of authorisation (ownership and permission) to prevent unauthorised access to the filesystem in an effective and easy manner. In Linux, there are two types of users: system users and regular users. System users are created by the operating system itself and are used to manage background processes. We generally create regular users to create and run processes interactively through a GUI or terminal. Besides these two types of users, there is a superuser by the name root, which has access to the entire system to manage and override any settings in the system.\n",
        "\n",
        "There are two levels of permissions assigned to the files, directories, and processes in Linux. The first one is permission groups, which is otherwise referred to as the ownership. The second one is permission types, which can be read, write, or execute.\n",
        "\n",
        "Permission group\n",
        "\n",
        "Owners: The user who creates a file, folder, or process is the owner.\n",
        "\n",
        "Groups: Groups refers to anyone who is in the same group as the owner.\n",
        "\n",
        "Others: Any user who is neither the owner of the file/directory and doesn’t belong to the same group is assigned to others group.\n",
        "\n",
        "Permission type\n",
        "\n",
        "The operations each of the above three user groups can do is defined by permission types. There are three basic permission types that can be assigned to three groups of users and they are read (r), write (w), and execute (x).\n",
        "\n",
        "For files:\n",
        "\n",
        "- Read is the ability to view the contents of a file.\n",
        "- Write is the ability to edit or delete content of the file.\n",
        "- Execute is the ability to run a file as an executable program.\n",
        "\n",
        "For directories:\n",
        "\n",
        "- Read is the ability to read the contents of a directory.\n",
        "- Write is the ability to write into the directory, like creating files and sub-directories inside a directory.\n",
        "- Execute is the ability to `cd` into the directory and to view the metadata of the files inside the directory using `ls` command.\n",
        "\n",
        "Finding permission in a file/directory\n",
        "\n",
        "To find the permissions that are assigned to files or directories, use `ls` command with `-l` switch.\n",
        "\n"
      ]
    },
    {
      "cell_type": "code",
      "execution_count": null,
      "metadata": {},
      "outputs": [],
      "source": [
        "%cd Introduction_to_Linux_Unix_Text_processing"
      ]
    },
    {
      "cell_type": "code",
      "execution_count": null,
      "metadata": {},
      "outputs": [],
      "source": [
        "!ls -l"
      ]
    },
    {
      "cell_type": "markdown",
      "metadata": {},
      "source": [
        "Ten characters in the format **drwxrwxrwx**, represents the permissions for all the three classes of users. The first character, **d**, signifies that the file is a directory. \n",
        "\n",
        "Then the next three characters **(drwxr-xr-x)** represent the permissions that have been assigned to the owners of the file. \n",
        "\n",
        "Moving on to the next three characters **(drwxr-xr-x)**, which is **r-x**, represents the group permissions. The users  can access the file according to the group permissions, which specify they can read and execute in the directory but cannot write into it. The hyphen signifies that the permission is not granted.\n",
        "\n",
        "The last three characters **(drwxr-xr-x)** represent the permissions for other groups who are neither the owner nor a member of the group users and the permissions are set to read and execute only.\n",
        "\n",
        "> Further reading on Linux permissions: https://blog.ssdnodes.com/blog/linux-permissions/"
      ]
    },
    {
      "cell_type": "markdown",
      "metadata": {
        "id": "6Wqk_GqgF3_l"
      },
      "source": [
        "### Directory management\n",
        "\n",
        "Directories are the UNIX equivalent of folders on a PC or Mac. They are organised in a hierarchy, so directories can have sub-directories and so on. Directories are very useful for organising your work and keeping your account tidy - for example, if you have more than one project, you can organise the files for each project into different directories to keep them separate. You can think of directories as rooms in a house. You can only be in one room (directory) at a time. When you are in a room you can see everything in that room easily. To see things in other rooms, you have to go to the appropriate door and crane your head around. UNIX works in a similar manner, moving from directory to directory to access files. The location or directory that you are in is referred to as the current working directory."
      ]
    },
    {
      "cell_type": "code",
      "execution_count": null,
      "metadata": {
        "id": "4WYbAqPDLicJ"
      },
      "outputs": [],
      "source": [
        "!mkdir new_folder"
      ]
    },
    {
      "cell_type": "code",
      "execution_count": null,
      "metadata": {
        "id": "xPR2qI0_te4o"
      },
      "outputs": [],
      "source": [
        "!touch new_file"
      ]
    },
    {
      "cell_type": "code",
      "execution_count": null,
      "metadata": {
        "id": "qV5T6aAhtjC9"
      },
      "outputs": [],
      "source": [
        "!ls"
      ]
    },
    {
      "cell_type": "code",
      "execution_count": null,
      "metadata": {
        "collapsed": true,
        "id": "iekMN3ypuaHj"
      },
      "outputs": [],
      "source": [
        "!ls -l"
      ]
    },
    {
      "cell_type": "code",
      "execution_count": null,
      "metadata": {
        "id": "RKYP4pFVtjKg"
      },
      "outputs": [],
      "source": [
        "!cat new_file"
      ]
    },
    {
      "cell_type": "markdown",
      "metadata": {},
      "source": [
        "Commands like `less` will behave strangly in the Colab system you will need to find a white box at the bottom of the cell window and type `q` into it, then hit enter to stop this cell running.\n",
        "\n",
        "This is because  `less` is an interactive command, and to mimic the \"screen\" of a unix terminal, colab uses an interactive cell. This is also the case for other interactive commands like `vi` , `nano`, `vim` etc. \n"
      ]
    },
    {
      "cell_type": "code",
      "execution_count": null,
      "metadata": {
        "id": "U9xIGYb2t0mq"
      },
      "outputs": [],
      "source": [
        "# This cell will not stop if you dont, causing other cells to wait and be queued up if you do!\n",
        "# You can stop a cell with the play/stop circle, or by using the Runtime command tab\n",
        "!less new_file"
      ]
    },
    {
      "cell_type": "markdown",
      "metadata": {
        "id": "aNyBTzGaz4cX"
      },
      "source": [
        "### Useful Commands"
      ]
    },
    {
      "cell_type": "markdown",
      "metadata": {
        "id": "4-IjRzZFzbBd"
      },
      "source": [
        "#### pwd (print working directory)\n",
        "Returns the path of the current working directory to the standard output.\n"
      ]
    },
    {
      "cell_type": "code",
      "execution_count": null,
      "metadata": {
        "id": "GOC_qoW7zfzq"
      },
      "outputs": [],
      "source": [
        "!pwd"
      ]
    },
    {
      "cell_type": "markdown",
      "metadata": {
        "id": "r83lt8MCzmsK"
      },
      "source": [
        "#### cd change directory\n",
        "\n",
        "Change current working directory to the specified directory.\n",
        "\n",
        ">**Note: In Colab use `%`before cd**"
      ]
    },
    {
      "cell_type": "code",
      "execution_count": null,
      "metadata": {
        "id": "eiGcUydo0uSb"
      },
      "outputs": [],
      "source": [
        "!ls"
      ]
    },
    {
      "cell_type": "code",
      "execution_count": null,
      "metadata": {},
      "outputs": [],
      "source": [
        "%cd Intro_to_Linux/GPS"
      ]
    },
    {
      "cell_type": "code",
      "execution_count": null,
      "metadata": {
        "id": "FbKeIZH2zrcZ"
      },
      "outputs": [],
      "source": [
        "!pwd"
      ]
    },
    {
      "cell_type": "markdown",
      "metadata": {},
      "source": [
        "Command `cd ..` takes you out from the current directory. "
      ]
    },
    {
      "cell_type": "markdown",
      "metadata": {
        "id": "fEUB41xn2HVP"
      },
      "source": [
        "#### mkdir make directory\n",
        "This command creates a directory in the current working directory if no directory exists with the specified name."
      ]
    },
    {
      "cell_type": "code",
      "execution_count": null,
      "metadata": {
        "id": "qrIbxC9d2Hve"
      },
      "outputs": [],
      "source": [
        "!mkdir Practice\n",
        "!ls -l"
      ]
    },
    {
      "cell_type": "markdown",
      "metadata": {
        "id": "o6Cf7D3N2H66"
      },
      "source": [
        "#### rmdir remove directory\n",
        "This command is used to remove directories. Try this below and see whether you can observe the folder disappearing."
      ]
    },
    {
      "cell_type": "code",
      "execution_count": null,
      "metadata": {
        "id": "_FUa8iOY2IKE"
      },
      "outputs": [],
      "source": [
        "!rmdir Practice/\n",
        "!ls -l"
      ]
    },
    {
      "cell_type": "markdown",
      "metadata": {
        "id": "bfUf8akK29xT"
      },
      "source": [
        "#### touch\n",
        "It is file’s timestamp changing command. However, it can be used to create an empty file. This command is generally used to check if there is write permission for the current user."
      ]
    },
    {
      "cell_type": "code",
      "execution_count": null,
      "metadata": {
        "id": "dScFOBl729-B"
      },
      "outputs": [],
      "source": [
        "!touch coronavirus.txt\n",
        "!ls -l"
      ]
    },
    {
      "cell_type": "markdown",
      "metadata": {
        "id": "XX5wr3zu2-I_"
      },
      "source": [
        "#### rm remove\n",
        "rm is used for removing files and directories. Try this below to remove thefile we just created."
      ]
    },
    {
      "cell_type": "code",
      "execution_count": null,
      "metadata": {
        "id": "3e_jtT3c2-XD"
      },
      "outputs": [],
      "source": [
        "!rm coronavorus.txt\n",
        "!ls -l"
      ]
    },
    {
      "cell_type": "markdown",
      "metadata": {},
      "source": [
        "To remove directories, use the `-r` option. "
      ]
    },
    {
      "cell_type": "markdown",
      "metadata": {
        "id": "oPqtI7IO3cSm"
      },
      "source": [
        "### PLEASE BE CAREFUL\n",
        "\n",
        ">**Please remember once a file or directory is deleted, it will not go to “Recycle bin” in Linux and there is no way you can recover it.**"
      ]
    },
    {
      "cell_type": "markdown",
      "metadata": {
        "id": "mFYYI4323sJm"
      },
      "source": [
        "#### cp Copy\n",
        "Copies the content of the source file/directory to the target file/directory. To copy directories, use `-r` option."
      ]
    },
    {
      "cell_type": "code",
      "execution_count": null,
      "metadata": {
        "id": "BgpSHuPJ3sU1"
      },
      "outputs": [],
      "source": [
        " !touch temp1\n",
        " !cp temp1 temp2\n",
        " !ls -l"
      ]
    },
    {
      "cell_type": "markdown",
      "metadata": {
        "id": "PC3h6cUL4C_8"
      },
      "source": [
        "#### mv Move\n",
        "\n",
        "To move/rename a file or a directory."
      ]
    },
    {
      "cell_type": "code",
      "execution_count": null,
      "metadata": {
        "id": "Cm8mAcsd4Cku"
      },
      "outputs": [],
      "source": [
        " !mkdir temp\n",
        " !mv temp1 temp/.\n",
        " !mv temp2 temp3\n",
        "!ls -l"
      ]
    },
    {
      "cell_type": "markdown",
      "metadata": {
        "id": "hsUoxgtu4XMk"
      },
      "source": [
        "The second command moves the “temp1” file into the directory “temp”. The “.” (dot) at the end of the command retains the name of the file, whereas the third command renames the file “temp2” to “temp3”."
      ]
    },
    {
      "cell_type": "markdown",
      "metadata": {},
      "source": [
        "#### ln\n",
        "\n",
        "Link. To make links to files/directories.\n",
        "\n",
        "There are two types of links:\n",
        "\n",
        "1. Symbolic links (also known as symlink or soft link) - Refer to a symbolic path indicating the abstract location of another file.\n",
        "2. Hard link - Refer to the specific location of physical data.\n",
        "\n",
        "Soft links are created with the `ln -s` command. Soft links can be linked across different file systems, although if the original file is deleted or moved, the soft linked file will not work correctly (called hanging link).\n",
        "\n",
        "Command to create a Soft link is: \n",
        "\n",
        "`ln  -s [original filename] [link name]`\n",
        "\n",
        "For example, the following would create a soft link named practice to the file named GPSC33_reference.fasta in the ‘/Users/jm61/bioinformatics/Intro_to_linux’ directory, both in the current directory.\n",
        "\n",
        "Example: `ln -s /Users/jm61/bioinformatics/Intro_to_linux/GPSC33_reference.fasta practice`\n",
        "\n",
        "`ls -l` (to print the files and directories in GPS. practice should be listed in this directory)"
      ]
    },
    {
      "cell_type": "code",
      "execution_count": null,
      "metadata": {},
      "outputs": [],
      "source": [
        "# Use this cell to practice ln -s command"
      ]
    },
    {
      "cell_type": "markdown",
      "metadata": {},
      "source": [
        "It is recommended to create links instead of copying data into various directories to save space. \n",
        "\n",
        "Hard links are more flexible and remain linked even if the original or linked files are moved throughout the file system, although hard links are unable to cross different file systems.\n",
        "\n",
        "The command to create a hard link is \n",
        "\n",
        "`ln  [original filename] [link name]`\n",
        "\n",
        "For example, the following would create a hard link named practice2 to the file named GPSC33_reference.fasta in the ‘/Users/jm61/bioinformatics/Intro_to_linux’ directory, both in the current directory.\n",
        "\n",
        "Example: `ln /Users/jm61/bioinformatics/Intro_to_linux/GPSC33_reference.fasta practice2`\n",
        "\n",
        "`ls -l` (to print the files and directories in GPS. practice should be listed in this directory)"
      ]
    },
    {
      "cell_type": "code",
      "execution_count": null,
      "metadata": {},
      "outputs": [],
      "source": [
        "# Use this cell to practice ln command"
      ]
    },
    {
      "cell_type": "markdown",
      "metadata": {
        "id": "yK27MJL14xuG"
      },
      "source": [
        "### File Viewers"
      ]
    },
    {
      "cell_type": "markdown",
      "metadata": {
        "id": "LLYLZmZp4x9X"
      },
      "source": [
        "#### cat Concatenate\n",
        "The concatenate command combines files (sequentially) and prints on the screen (standard output)."
      ]
    },
    {
      "cell_type": "code",
      "execution_count": null,
      "metadata": {
        "id": "MCnSUCb0r4so"
      },
      "outputs": [],
      "source": [
        "!pwd\n"
      ]
    },
    {
      "cell_type": "code",
      "execution_count": null,
      "metadata": {},
      "outputs": [],
      "source": [
        "%cd .."
      ]
    },
    {
      "cell_type": "code",
      "execution_count": null,
      "metadata": {
        "id": "pA--U9Yq4-Xy"
      },
      "outputs": [],
      "source": [
        "!cat /content/Introduction_to_Linux_Unix_Text_processing/SARS-CoV-2.fa"
      ]
    },
    {
      "cell_type": "markdown",
      "metadata": {
        "id": "VrR_apXW5Fqa"
      },
      "source": [
        "#### more/less\n",
        "These commands are used for viewing the content of the files; faster with large input files than text editors; not the entire file is read at the beginning. Press “Enter” to view lines further and `q` to quit the program\n"
      ]
    },
    {
      "cell_type": "code",
      "execution_count": null,
      "metadata": {
        "id": "9ziSK7QM5F5I"
      },
      "outputs": [],
      "source": [
        "!more /content/Introduction_to_Linux_Unix_Text_processing/SARS-CoV-2.fa"
      ]
    },
    {
      "cell_type": "markdown",
      "metadata": {
        "id": "krrjHAKj5RSn"
      },
      "source": [
        "#### head/tail\n",
        "These commands show first/last 10 lines (default) respectively from a file."
      ]
    },
    {
      "cell_type": "code",
      "execution_count": null,
      "metadata": {
        "id": "IidONJu75Rh-"
      },
      "outputs": [],
      "source": [
        "!head /content/Introduction_to_Linux_Unix_Text_processing/SARS-CoV-2.gb"
      ]
    },
    {
      "cell_type": "code",
      "execution_count": null,
      "metadata": {},
      "outputs": [],
      "source": [
        "!tail /content/Introduction_to_Linux_Unix_Text_processing/SARS-CoV-2.gb"
      ]
    },
    {
      "cell_type": "markdown",
      "metadata": {},
      "source": [
        "### File editors\n",
        "\n",
        "File viewers show the content of the file without making any changes. To change the file content you have to use file editors. There are many non-graphical text editors like ed, emacs, vim and nano available on most of the Linux distributions. Some of them are very sophisticated (e.g., vi) and for advanced users. Here we will be learning about a non-graphical file editors, “nano” \n",
        "\n",
        "nano (earlier called pico) is very much like any graphical editor without a mouse. All commands are executed through the use of keyboards, using the <CTRL> key modifier. It can be used to edit virtually any kind of text file from the command line.\n",
        "\n",
        "nano without a filename gives you a standard (blank) nano window. \n",
        "\n",
        "At the bottom of the screen, there are commands with a symbol in front. The symbol tells you that you need to hold down the Control (Ctrl) key, and then press the corresponding letter of the command you wish to use.\n",
        "\n",
        "For example:\n",
        "\n",
        "**Ctrl+X** will exit nano and return you to the command line.\n",
        "\n",
        "Nano Quick Reference\n",
        "\n",
        "**Ctrl+X**: Exit the editor. If you’ve edited text without saving, you’ll be prompted as to whether you really want to exit.\n",
        "\n",
        "**Ctrl+O**: Write (output) the current contents of the text buffer to a file. A filename prompt will appear; press Ctrl+T to open the file navigator shown above. \n",
        "\n",
        "**Ctrl+R**: Read a text file into the current editing session. At the filename prompt, hit Ctrl+T: for the file navigator. \n",
        "\n",
        "**Ctrl+K**: Cut a line into the clipboard. You can press this repeatedly to copy multiple lines, which are then stored as one chunk.\n",
        "\n",
        "**Ctrl+J**: Justify (fill out) a paragraph of text. By default, this reflows text to match the width of the editing window. \n",
        "\n",
        "**Ctrl+U**: Uncut text, or rather, paste it from the clipboard. Note that after a justify operation, this turns into unjustify. \n",
        "\n",
        "**Ctrl+T**: Check spelling.\n",
        "\n",
        "**Ctrl+W**: Find a word or a phrase. At the prompt, use the cursor keys to go through previous search terms, or hit Ctrl+R to move into replace mode. Alternatively you can hit Ctrl+T to go to a specific line. \n",
        "\n",
        "**Ctrl+C**: Show current line number and file information. \n",
        "\n",
        "**Ctrl+G**: Get help; this provides information on navigating through files and common keyboard commands. "
      ]
    },
    {
      "cell_type": "markdown",
      "metadata": {},
      "source": [
        "### Getting help in Linux\n",
        "\n",
        "Most of the Linux commands have manual pages. To access them, use “man” or “info” command. The manual page gives a detailed explanation of the command, all available options and sometimes, also provides examples. For example, to get the manual page for ls command type “man ls”\n",
        "\n",
        "Please explore manual pages of all the above commands for available options.\n",
        "\n",
        "**Some useful commands**\n",
        "\n",
        "ls: Lists the contents of the current directory\n",
        "\n",
        "mkdir: Makes a new directory\n",
        "\n",
        "mv: Moves or renames a file\n",
        "\n",
        "cp: Copies a file\n",
        "\n",
        "rm: Removes a file\n",
        "\n",
        "cat: Concatenates files\n",
        "\n",
        "more: Displays the contents of a file one page at a time\n",
        "\n",
        "head: Displays the first ten lines of a file\n",
        "\n",
        "tail: Displays the last ten lines of a file\n",
        "\n",
        "cd: Changes current working directory\n",
        "\n",
        "pwd: Prints working directory\n",
        "\n",
        "find: Finds files matching an expression\n",
        "\n",
        "grep: Searches a file for patterns\n",
        "\n",
        "wc: Counts the lines, words, characters, and bytes in a file\n",
        "\n",
        "kill: Stops a process\n",
        "\n",
        "jobs: Lists the processes that are running"
      ]
    },
    {
      "cell_type": "code",
      "execution_count": null,
      "metadata": {
        "id": "F3VjYEZ5kART"
      },
      "outputs": [],
      "source": [
        "!man ls"
      ]
    },
    {
      "cell_type": "markdown",
      "metadata": {
        "id": "jvTowcHykchq"
      },
      "source": [
        "### Commands for text processing"
      ]
    },
    {
      "cell_type": "markdown",
      "metadata": {
        "id": "q97V2_Wtkc0L"
      },
      "source": [
        "#### cut\n",
        "\n",
        "The `cut` command is a command line utility to cut a section from a file. Please see `man cut` for available options.\n",
        "To cut a section of file use `-c` (characters)"
      ]
    },
    {
      "cell_type": "code",
      "execution_count": null,
      "metadata": {
        "id": "ekXRHGlIkdDP"
      },
      "outputs": [],
      "source": [
        "!cut -c1-10 /content/Introduction_to_Linux_Unix_Text_processing/SARS-CoV-2.fa"
      ]
    },
    {
      "cell_type": "markdown",
      "metadata": {
        "id": "wxIjjGfqku5_"
      },
      "source": [
        "The option `-c1-10` will output first 10 characters from the input file.\n",
        "Few options:\n",
        "`-c`: cut based on character position `-d`: cut based on delimiter `-f`: field number\n",
        "\n",
        "We have a file named “human_viruses.txt” with all the count, serotype, Accession Number, Comments and Reference. These fields are separated by “,” symbol."
      ]
    },
    {
      "cell_type": "code",
      "execution_count": null,
      "metadata": {
        "id": "pVQl00KflBcs"
      },
      "outputs": [],
      "source": [
        "!head /content/Introduction_to_Linux_Unix_Text_processing/human_viruses.txt"
      ]
    },
    {
      "cell_type": "markdown",
      "metadata": {
        "id": "37A3OvYxlFJp"
      },
      "source": [
        "To get only Accession Number"
      ]
    },
    {
      "cell_type": "code",
      "execution_count": null,
      "metadata": {
        "id": "Z7BTKK2ClK7w"
      },
      "outputs": [],
      "source": [
        "!cut -d \"|\" -f2 /content/Introduction_to_Linux_Unix_Text_processing/human_viruses.txt"
      ]
    },
    {
      "cell_type": "markdown",
      "metadata": {
        "id": "aBxlKKjQlPFX"
      },
      "source": [
        "#### sort\n",
        "\n",
        "The `sort` command is used to sort the input content.\n",
        "\n",
        "\n",
        "Few options:\n",
        "\n",
        "`-t`: field separator\n",
        "\n",
        "`-n`: numeric sort\n",
        "\n",
        "`-k`: sort with a key (field) \n",
        "\n",
        "`-r`: reverse sort\n",
        "\n",
        "`-u`: print unique entries"
      ]
    },
    {
      "cell_type": "code",
      "execution_count": null,
      "metadata": {
        "id": "yyF9F03hlY4r"
      },
      "outputs": [],
      "source": [
        "!sort -t \"|\" -nrk6 /content/Introduction_to_Linux_Unix_Text_processing/human_viruses.txt"
      ]
    },
    {
      "cell_type": "markdown",
      "metadata": {
        "id": "XE0b15qUle0Z"
      },
      "source": [
        "#### grep\n",
        "`grep` searches the input for a given pattern.\n",
        "\n",
        "Few options:\n",
        "\n",
        "`-A`: after context\n",
        "\n",
        "`-B`: before context\n",
        "\n",
        "`-C`: before and after context `-c`: count\n",
        "\n",
        "`-l`: file with match\n",
        "\n",
        "`-i`: ignore case\n",
        "\n",
        "`-o`: only match\n",
        "\n",
        "`-v`: invert match\n",
        "\n",
        "`-w`: word match\n",
        "\n",
        "\n",
        "To get the list of all Hepatitis viruses from human_viruses.txt, type the command below."
      ]
    },
    {
      "cell_type": "code",
      "execution_count": null,
      "metadata": {
        "id": "EgNQS11elod1"
      },
      "outputs": [],
      "source": [
        "!grep \"Hepatitis\" /content/Introduction_to_Linux_Unix_Text_processing/human_viruses.txt"
      ]
    },
    {
      "cell_type": "markdown",
      "metadata": {
        "id": "MQN60dA9lrfV"
      },
      "source": [
        "#### wc\n",
        "\n",
        "The command `wc` can be used in 2 ways, which counts lines, words or characters."
      ]
    },
    {
      "cell_type": "code",
      "execution_count": null,
      "metadata": {
        "id": "ZgPEG2E_lzoL"
      },
      "outputs": [],
      "source": [
        "!wc -l /content/Introduction_to_Linux_Unix_Text_processing/outbreak.csv"
      ]
    },
    {
      "cell_type": "code",
      "execution_count": null,
      "metadata": {
        "id": "vDNPRtlYl2-u"
      },
      "outputs": [],
      "source": [
        "!cat /content/Introduction_to_Linux_Unix_Text_processing/outbreak.csv | wc -l"
      ]
    },
    {
      "cell_type": "markdown",
      "metadata": {
        "id": "W79G_y1Sl5hg"
      },
      "source": [
        "#### uniq\n",
        "\n",
        "\n",
        "The `uniq` command extracts unique lines from the input. It is usually used in combination with `sort` to count unique values in the input.\n",
        "To get the list of countries that has had an outbreak in 2022:"
      ]
    },
    {
      "cell_type": "code",
      "execution_count": null,
      "metadata": {
        "id": "M1LxQw2rmUbH"
      },
      "outputs": [],
      "source": [
        "!cut -d, -f3 /content/Introduction_to_Linux_Unix_Text_processing/outbreak.csv | sort | uniq"
      ]
    },
    {
      "cell_type": "markdown",
      "metadata": {
        "id": "9HO9XAdsmo2a"
      },
      "source": [
        "Other text processing commands worth looking at are: `tr`, `rev`, `sed` and `paste`."
      ]
    },
    {
      "cell_type": "markdown",
      "metadata": {
        "id": "AlF_ySwGmtWL"
      },
      "source": [
        "### Output control in Linux"
      ]
    },
    {
      "cell_type": "markdown",
      "metadata": {
        "id": "hlsBAV5JmtKc"
      },
      "source": [
        "When you run a command, the output is usually sent to standard output (stdout) ie. the terminal. However, we can redirect the standard output to a file using `>`."
      ]
    },
    {
      "cell_type": "code",
      "execution_count": null,
      "metadata": {
        "id": "BfEZOi1xnHMW"
      },
      "outputs": [],
      "source": [
        "!ls > list\n",
        "!cat list"
      ]
    },
    {
      "cell_type": "markdown",
      "metadata": {
        "id": "3h2RgYxUnLxS"
      },
      "source": [
        "The first command creates a new file called list with all the file names in the directory. If there exists a file already named “list”, it is overwritten with the output of the command. Instead, we can append to a file using `>>` redirection.\n",
        "\n",
        "Another kind of output that is generated by programs is standard error. We must use `2>` to redirect it."
      ]
    },
    {
      "cell_type": "code",
      "execution_count": null,
      "metadata": {
        "id": "Vf6qbH1CnQe5"
      },
      "outputs": [],
      "source": [
        "!ls /foo 2> error"
      ]
    },
    {
      "cell_type": "markdown",
      "metadata": {
        "id": "JpYLn8sVnUH9"
      },
      "source": [
        "To redirect stdout and stderr to a file use `&>`"
      ]
    },
    {
      "cell_type": "markdown",
      "metadata": {
        "id": "aM3-zZmQnXpK"
      },
      "source": [
        "### Pipes"
      ]
    },
    {
      "cell_type": "markdown",
      "metadata": {
        "id": "BoIkOMprnXyR"
      },
      "source": [
        "Piping in Linux is a very powerful and efficient way to combine commands. Pipes `|` in Linux act as connecting links between commands. Pipe redirects output of the first command as an input to the next command. We can nest as many commands as we want using pipes. They ensure smooth running of the command flow and reduces the execution time.\n",
        "\n",
        "To print isolates from Bentley et al"
      ]
    },
    {
      "cell_type": "code",
      "execution_count": null,
      "metadata": {
        "id": "hUk3EKpXnn__"
      },
      "outputs": [],
      "source": [
        "!sort -t \"|\" -nk6 /content/Introduction_to_Linux_Unix_Text_processing/human_viruses.txt | head -10"
      ]
    },
    {
      "cell_type": "markdown",
      "metadata": {
        "id": "Db6t0y-unrtf"
      },
      "source": [
        "### Process control"
      ]
    },
    {
      "cell_type": "markdown",
      "metadata": {
        "id": "iZ67Ig7rnziY"
      },
      "source": [
        "Some commands take time to finish the assigned job. For example, if you would like to compress a huge file with gzip command that takes a few minutes to finish running, you can run it in the background by appending the command with `&` (Another way is to suspend a command by pressing Ctrl+Z and typing `bg`). The completion of the task is indicated by `Done`."
      ]
    },
    {
      "cell_type": "code",
      "execution_count": null,
      "metadata": {
        "id": "I_90Qp2oo9zt"
      },
      "outputs": [],
      "source": [
        "!gzip list &"
      ]
    },
    {
      "cell_type": "markdown",
      "metadata": {
        "id": "Lq1ow6eopCjk"
      },
      "source": [
        "We can get list of currently running jobs in the terminal by `jobs` command. This will give you all the background jobs running in the current terminal. If you want to see all the running processes in the system, use `top`. You can get user specific details in top using `-u` option.\n"
      ]
    },
    {
      "cell_type": "code",
      "execution_count": null,
      "metadata": {
        "id": "zb91KCGVpF0a"
      },
      "outputs": [],
      "source": [
        "!top"
      ]
    },
    {
      "cell_type": "markdown",
      "metadata": {
        "id": "SaowKoH3pZij"
      },
      "source": [
        "`top` command prints a 12 column dynamic output. These columns are:\n",
        "\n",
        "PID: Process ID, this is a unique number used to identify the process. \n",
        "\n",
        "USER: The username of whoever launched the process\n",
        "\n",
        "PR: Priority - The priority of the process. Processes with higher priority will be favoured by the kernel and given more CPU time than processes with lower priority. Oddly enough, the lower this value, the higher the actual priority.\n",
        "\n",
        "NI: nice value: nice is a way of setting your process’ priority.\n",
        "\n",
        "VIRT: Virtual Memory Size (KiB): The total amount of virtual memory used by the process.\n",
        "\n",
        "RES: Resident Memory Size (KiB): The non-swapped physical memory a task has used. \n",
        "\n",
        "SHR: Shared Memory Size (KiB): The amount of shared memory available to a task, not all of which is typically resident. It simply reflects memory that could be potentially shared with other processes.  \n",
        "\n",
        "S: Process Status: The status of the task which can be one of:\n",
        "\n",
        "- D = uninterruptible sleep\n",
        "\n",
        "- R = running\n",
        "\n",
        "- S = sleeping\n",
        "\n",
        "- T = traced or stopped\n",
        "\n",
        "- Z = zombie\n",
        "\n",
        "%CPU: CPU Usage: The percentage of your CPU that is being used by the process. By default, top displays this as a percentage of a single CPU. On multi-core systems, you can have percentages that are greater than 100%. For example, if 3 cores are at 60% use, the top will show a CPU use of 180.\n",
        "\n",
        "%MEM: Memory Usage (RES): A task’s currently used share of available physical memory (RAM)\n",
        "\n",
        "TIME+: CPU Time, hundreths: Total CPU time the task has used since it started.\n",
        "\n",
        "COMMAND: Command Name or Command Line: To see the fill command line that launched the process, start top with the -c flag\n",
        "\n",
        "If you want to stop a running background job use the “kill” command.\n",
        "\n",
        "kill 1234\n",
        "\n",
        "This will kill the job with the process id 1234. As a user you can kill only your jobs. You do not have permission to run this command on other users’ process ids. "
      ]
    },
    {
      "cell_type": "markdown",
      "metadata": {},
      "source": [
        "#### Command line shortcuts\n",
        "\n",
        "Up/Down arrows: Previous commands\n",
        "\n",
        "!!: Rerun previous command\n",
        "\n",
        "Tab: Auto complete\n",
        "\n",
        "Tab+Tab: All available options\n",
        "\n",
        "Ctrl+a: Move cursor to start of line\n",
        "\n",
        "Ctrl+e: Move cursor to end of line\n",
        "\n",
        "Ctrl+: Alternates between terminals\n",
        "\n",
        "Ctrl+l: Clear screen ((or Command + k on Mac)\n",
        "\n",
        "Ctrl+c: Terminates the running program\n",
        "\n",
        "Ctrl+z: Suspends the running program\n",
        "\n",
        "Ctrl+w: Removes a previous word\n",
        "\n",
        "Ctrl+d: Logout\n",
        "\n",
        "Ctrl+d (in a command): Removes a character\n",
        "\n",
        "Ctrl+u: Removes till the beginning"
      ]
    },
    {
      "cell_type": "markdown",
      "metadata": {
        "id": "1IEOrNcBvV-J"
      },
      "source": [
        "## Exercises:\n",
        "\n",
        "1. Navigate into Exercises directory (/content/Introduction_to_Linux_Unix_Text_processing/Exercises)\n",
        "\n",
        "2. Extract first 15 lines from the file “HM067743.1_cds_ADQ37313.1_1.fa” and save the output into “output.fa”\n",
        "\n",
        "3. How many fasta files are there in the directory?\n",
        "\n",
        "4. Extract all header lines from the file all.fa\n",
        "\n",
        "5. How many sequences are there in the file all.fa?\n",
        "\n",
        "6. Get the list of countries (excluding multi country outbreaks) that had an outbreak in 2022 (Input: /content/Introduction_to_Linux_Unix_Text_processing/outbreak.csv) \n",
        "\n",
        "7. Find the number of outbreaks (exclude multi country outbreaks using invert match grep (-v)) in each month of 2022."
      ]
    },
    {
      "cell_type": "code",
      "execution_count": null,
      "metadata": {
        "id": "qLknepLivnJD"
      },
      "outputs": [],
      "source": [
        "#Use this space to practice your code and answer the questions in the exercises above. \n",
        "#Feel free to add more Code blocks if required using the +Code button at top of page."
      ]
    },
    {
      "cell_type": "markdown",
      "metadata": {},
      "source": [
        "# Linux Cheatsheet\n",
        "\n",
        "Directory/file commands\n",
        "\n",
        "pwd:  print working directory\n",
        "\n",
        "ls -l -alh: list the contents of the current directory\n",
        "\n",
        "cd dir: change directory to dir\n",
        "\n",
        "mkdir dir:  make directory named dir\n",
        "\n",
        "touch file: make a file named file\n",
        "\n",
        "m file: remove a file named file\n",
        "\n",
        "rm -r dir: remove directory and contents named dir\n",
        "\n",
        "rm -f dir: forcefully remove a file named file\n",
        "\n",
        "rm -rf dir : forcefully remove a directory dir and contents (careful with this)\n",
        "\n",
        "mv file1 file2 : move file1 to file2 (used for renaming files)\n",
        "\n",
        "mv dir1 dir2 : move dir1 to dir2 (used for renaming dirs)\n",
        "\n",
        "cp file1 file2: copy file1 to file2\n",
        "\n",
        "cp -r dir1 dir2 : copy dir1 to dir2\n",
        "\n",
        "cat file: display the contents of file to stdout\n",
        "\n",
        "less file: display the contents of file fitting within the terminal screen\n",
        "\n",
        "head -n 10 file: display the first 10 lines file\n",
        "\n",
        "tail -n 10 file: display the last 10 lines of file\n",
        "\n",
        "sort file: display the contents of the file with each line sorted\n",
        "\n",
        "wc -l file: count the number of lines in file\n",
        "\n",
        "ln -s target name: create a link to the target file with name\n",
        "\n",
        "System commands\n",
        "\n",
        "w: display who is logged in\n",
        "\n",
        "whoami: display who you\n",
        "\n",
        "man command: display info about command\n",
        "\n",
        "df -h: display current disk usage\n",
        "\n",
        "du -sh dir: display disk usage of dir\n",
        "\n",
        "which app: display the path to the location of the app\n",
        "\n",
        "whereis app : display all possible paths to the app\n",
        "\n",
        "history: display all commands that have been run\n",
        "\n",
        "clear: clear the terminal of text\n",
        "\n",
        "File permission commands\n",
        "\n",
        "chmod 777 file: set read(r) write(w) and execute(x) for all users\n",
        "\n",
        "chmod 755 file: set owner to rwx and all other users to rx\n",
        "\n",
        "chmod 766 file: set owner to rwx and all other users to rw\n",
        "\n",
        "chmod 644 file: set owner to rw and all other users to r\n",
        "\n",
        "chmod +x file: make file executable for all users\n",
        "\n",
        "chown user file: change the owner of file to user\n",
        "\n",
        "Compression commands\n",
        "\n",
        "tar -cf file.tar files: create a tar named file.tar containing files \n",
        "\n",
        "tar -xf file.tar: extract the files from file.tar\n",
        "\n",
        "tar -czf file.tar.gz files: create a tar with Gzip compression\n",
        "\n",
        "tar -xzf file.tar.gz: extract a tar using Gzip\n",
        "\n",
        "tar -cjf file.tar.bz2 files: create a tar with Bzip2 compression\n",
        "\n",
        "tar -xjf file.tar.bz2: extract a tar using Bzip2\n",
        "\n",
        "gzip file: compresses file and renames it to file.gz\n",
        "\n",
        "gzip -d file.gz: decompresses file.gz back to file\n",
        "\n",
        "Process commands\n",
        "\n",
        "ps -e: snapshot of processes\n",
        "\n",
        "top: show processes in real time\n",
        "\n",
        "kill pid: kill processes with id pid\n",
        "\n",
        "pkill name: kill processes with name\n",
        "\n",
        "killall name: kill all processes with the name \n",
        "\n",
        "Searching commands\n",
        "\n",
        "grep pattern files: search for pattern in files\n",
        "\n",
        "grep -r pattern dir: search for pattern in dir\n",
        "\n",
        "find dir -name “pattern“: find all files with pattern in name in dir\n",
        "\n",
        "Piping commands\n",
        "\n",
        "cmd > file: redirect the standard output (stdout) of cmd to file\n",
        "\n",
        "cmd 2> file: redirect the standard error (stderr) of cmd to file\n",
        "\n",
        "cmd &> file: redirect the stdout and stderr of a cmd to file\n",
        "\n",
        "cmd >> file: redirect the stdout of cmd to file append to file if it exists\n",
        "\n",
        "cmd > /dev/null: discard the stdout of cmd\n",
        "\n",
        "cmd < file: redirect the contents of the file to the standard input (stdin) of cmd\n",
        "\n",
        "cmd <(cmd1): redirect the stdout of cmd1 through a file to cmd (useful if cmd takes a file input)\n",
        "\n",
        "cmd1 | cmd2: redirect the stdout of cmd1 to the stdin of cmd2\n",
        "\n",
        "xargs cmd: reads data from stdin and executes cmd one or more times depending on the input\n",
        "\n",
        "Other useful commands\n",
        "\n",
        "count the number of unique lines in a file\n",
        "\n",
        "cat file.txt | sort -u | wc -l\n",
        "\n",
        "find all files with “assembly” in the name and copy them to a single assembly.txt file \n",
        "\n",
        "find . -name “*assembly*” | xargs cat > assembly.txt\n",
        "\n",
        "copy all “.fastq.gz” files from dir1 to dir2 \n",
        "\n",
        "cp `find dir1 -name “.fastq.gz”` dir2\n",
        "\n",
        "split a multi fasta to individual fasta files\n",
        "\n",
        "awk ‘/^>/{s=++d”.fa”} {print > s}’ multi.fa\n",
        "\n",
        "convert a fastq file to fasta\n",
        "\n",
        " sed -n ‘1~4s/^@/>/p;2~4p’ file.fq > file.fa\n",
        "\n",
        "calculate the mean length of reads in a fastq file\n",
        "\n",
        "awk ‘NR%4==2{sum+=length($0)}END{print sum/(NR/4)}’ input.fastq\n",
        "\n",
        "create a backup of files here all .txt files are backedup as .bak\n",
        "\n",
        " find . -name “*.txt” | sed “s/\\.txt$//” | xargs -i echo mv {}.txt {}.bak | sh"
      ]
    },
    {
      "cell_type": "markdown",
      "metadata": {},
      "source": [
        "## References\n",
        "\n",
        "https://github.com/stephenturner/oneliners\n",
        "\n",
        "https://staphb.org/resources/2019-10-4-linux_cheatsheet.html\n"
      ]
    },
    {
      "cell_type": "markdown",
      "metadata": {},
      "source": [
        "*Adapted from:*\n",
        " \n",
        "- Advanced Bioinformatics Course developed for the GPS and JUNO projects - Wellcome Sanger Insitute\n",
        "- SARS-CoV-2 Bioinformatics for Beginners Course - Wellcome Connecting Science\n",
        "\n",
        "*Modified by Luisa Sacristán (Universidad de los Andes-CABANA)*"
      ]
    }
  ],
  "metadata": {
    "colab": {
      "collapsed_sections": [],
      "provenance": []
    },
    "kernelspec": {
      "display_name": "Python 3",
      "name": "python3"
    },
    "language_info": {
      "name": "python"
    }
  },
  "nbformat": 4,
  "nbformat_minor": 0
}
